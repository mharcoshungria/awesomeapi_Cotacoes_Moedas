{
 "cells": [
  {
   "cell_type": "code",
   "execution_count": null,
   "id": "edfb0e68",
   "metadata": {},
   "outputs": [
    {
     "name": "stdout",
     "output_type": "stream",
     "text": [
      "Cotação Atualizada. 2022-04-13 19:48:09.409626\n",
      "Cotação Atualizada. 2022-04-13 19:48:39.684693\n",
      "Cotação Atualizada. 2022-04-13 19:49:09.935527\n",
      "Cotação Atualizada. 2022-04-13 19:49:40.172380\n",
      "Cotação Atualizada. 2022-04-13 19:50:10.503011\n",
      "Cotação Atualizada. 2022-04-13 19:50:40.744493\n",
      "Cotação Atualizada. 2022-04-13 19:51:10.986479\n",
      "Cotação Atualizada. 2022-04-13 19:51:41.119463\n",
      "Cotação Atualizada. 2022-04-13 19:52:11.253521\n",
      "Cotação Atualizada. 2022-04-13 19:52:41.496396\n",
      "Cotação Atualizada. 2022-04-13 19:53:11.765180\n",
      "Cotação Atualizada. 2022-04-13 19:53:41.867232\n",
      "Cotação Atualizada. 2022-04-13 19:54:12.059982\n"
     ]
    }
   ],
   "source": [
    "# Importando bibliotecas\n",
    "\n",
    "import requests\n",
    "import pandas as pd\n",
    "from datetime import datetime\n",
    "import time\n",
    "\n",
    "# Criando o loop de consulta\n",
    "\n",
    "while True:\n",
    "    requisicao = requests.get(\"https://economia.awesomeapi.com.br/last/USD-BRL,EUR-BRL,BTC-BRL\")\n",
    "\n",
    "    requisicao_dic = requisicao.json()\n",
    "    cotacao_dolar = requisicao_dic[\"USDBRL\"][\"bid\"]\n",
    "    cotacao_euro = requisicao_dic[\"EURBRL\"][\"bid\"]\n",
    "    cotacao_btc = requisicao_dic[\"BTCBRL\"][\"bid\"]\n",
    "\n",
    "    tabela = pd.read_excel(\"Cotações.xlsx\")\n",
    "    tabela.loc[0, \"Cotação\"] = float(cotacao_dolar)\n",
    "    tabela.loc[1, \"Cotação\"] = float(cotacao_euro)\n",
    "    tabela.loc[2, \"Cotação\"] = float(cotacao_btc) * 1000\n",
    "    tabela.loc[0, \"Data Última Atualização\"] = datetime.now()\n",
    "\n",
    "    tabela.to_excel(\"Cotações.xlsx\", index=False)\n",
    "    print(f\"Cotação Atualizada. {datetime.now()}\")\n",
    "    time.sleep(30) # Definindo o intervalo das consultas (em segundos)"
   ]
  }
 ],
 "metadata": {
  "kernelspec": {
   "display_name": "Python 3 (ipykernel)",
   "language": "python",
   "name": "python3"
  },
  "language_info": {
   "codemirror_mode": {
    "name": "ipython",
    "version": 3
   },
   "file_extension": ".py",
   "mimetype": "text/x-python",
   "name": "python",
   "nbconvert_exporter": "python",
   "pygments_lexer": "ipython3",
   "version": "3.9.7"
  }
 },
 "nbformat": 4,
 "nbformat_minor": 5
}
